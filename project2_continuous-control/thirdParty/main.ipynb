{
 "cells": [
  {
   "cell_type": "code",
   "execution_count": null,
   "metadata": {},
   "outputs": [],
   "source": [
    "\"\"\"\n",
    "Deep Deterministic Policy Gradient\n",
    "Implemented using DM Control Suite in PyTorch\n",
    "Author: Sameera Lanka\n",
    "Website: https://sameera-lanka.com\n",
    "\"\"\"\n",
    "\n",
    "from ddpg import DDPG\n",
    "from dm_control import suite\n",
    "import torch\n",
    "import os\n",
    "import numpy as np\n",
    "import matplotlib.pyplot as plt\n",
    "%matplotlib inline"
   ]
  },
  {
   "cell_type": "code",
   "execution_count": null,
   "metadata": {},
   "outputs": [],
   "source": [
    "ENVNAME = 'reacher'\n",
    "TASKNAME = 'hard'\n",
    "NUM_EPISODES = 100000"
   ]
  },
  {
   "cell_type": "code",
   "execution_count": null,
   "metadata": {
    "scrolled": true
   },
   "outputs": [],
   "source": [
    "if __name__==\"__main__\":\n",
    "    env = suite.load(ENVNAME, TASKNAME, visualize_reward=True )\n",
    "    agent = DDPG(env)\n",
    "    #agent.loadCheckpoint(Path to checkpoint)\n",
    "    agent.train()"
   ]
  },
  {
   "cell_type": "code",
   "execution_count": null,
   "metadata": {
    "scrolled": true
   },
   "outputs": [],
   "source": [
    "'''#For Plots\n",
    "fig = plt.figure(figsize=(50,20))\n",
    "plt.plot(agent.rewardgraph)\n",
    "plt.xlabel('Episode number')\n",
    "plt.ylabel('Episode reward')\n",
    "plt.show()\n",
    "\n",
    "avgreward = np.convolve(agent.rewardgraph, np.ones((50,))/50, mode='valid')\n",
    "plt.xlabel('Episode number')\n",
    "plt.ylabel('100-Episode reward')\n",
    "fig = plt.figure(figsize=(50,20))\n",
    "plt.plot(avgreward)\n",
    "plt.show()'''"
   ]
  },
  {
   "cell_type": "code",
   "execution_count": null,
   "metadata": {},
   "outputs": [],
   "source": [
    ""
   ]
  }
 ],
 "metadata": {
  "kernelspec": {
   "display_name": "Python 3",
   "language": "python",
   "name": "python3"
  },
  "language_info": {
   "codemirror_mode": {
    "name": "ipython",
    "version": 3.0
   },
   "file_extension": ".py",
   "mimetype": "text/x-python",
   "name": "python",
   "nbconvert_exporter": "python",
   "pygments_lexer": "ipython3",
   "version": "3.6.3"
  }
 },
 "nbformat": 4,
 "nbformat_minor": 0
}