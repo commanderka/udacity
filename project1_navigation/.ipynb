{
 "cells": [
  {
   "cell_type": "code",
   "execution_count": 1,
   "metadata": {},
   "outputs": [
    {
     "name": "stderr",
     "output_type": "stream",
     "text": [
      "INFO:unityagents:\n",
      "'Academy' started successfully!\n",
      "Unity Academy name: Academy\n",
      "        Number of Brains: 1\n",
      "        Number of External Brains : 1\n",
      "        Lesson number : 0\n",
      "        Reset Parameters :\n",
      "\t\t\n",
      "Unity brain name: BananaBrain\n",
      "        Number of Visual Observations (per agent): 0\n",
      "        Vector Observation space type: continuous\n",
      "        Vector Observation space size (per agent): 37\n",
      "        Number of stacked Vector Observation: 1\n",
      "        Vector Action space type: discrete\n",
      "        Vector Action space size (per agent): 4\n",
      "        Vector Action descriptions: , , , \n"
     ]
    },
    {
     "name": "stdout",
     "output_type": "stream",
     "text": [
      "Number of agents: 1\n",
      "Number of actions: 4\n"
     ]
    }
   ],
   "source": [
    "# Training the model\n",
    "from torch_agent import MyTorchAgent\n",
    "from collections import deque\n",
    "from unityagents import UnityEnvironment\n",
    "import numpy as np\n",
    "import torch\n",
    "import time\n",
    "from matplotlib import pyplot as plt\n",
    "\n",
    "#create agent\n",
    "agent = MyTorchAgent(state_size=37, action_size=4,tau=10e-3,batchSize=64,gamma=0.99)\n",
    "\n",
    "\n",
    "modelPath = 'models/model.pth'\n",
    "final_eps = 0.01\n",
    "#set to true if training should be run, otherwise a simulation is run with the trained model\n",
    "trainMode = True\n",
    "\n",
    "\n",
    "#create banana environement\n",
    "env = UnityEnvironment(file_name=\"Banana.exe\")\n",
    "\n",
    "# use this environment when you are in the udacity workspace\n",
    "#env = UnityEnvironment(file_name=\"/data/Banana_Linux_NoVis/Banana.x86_64\")\n",
    "\n",
    "#env = UnityEnvironment(file_name=\"...\")\n",
    "brain_name = env.brain_names[0]\n",
    "brain = env.brains[brain_name]\n",
    "env_info = env.reset(train_mode=trainMode)[brain_name]\n",
    "# number of agents in the environment\n",
    "print('Number of agents:', len(env_info.agents))\n",
    "\n",
    "# number of actions\n",
    "action_size = brain.vector_action_space_size\n",
    "print('Number of actions:', action_size)"
   ]
  },
  {
   "cell_type": "code",
   "execution_count": 2,
   "metadata": {},
   "outputs": [
    {
     "name": "stdout",
     "output_type": "stream",
     "text": [
      "Episode 100\tAverage Score: 0.89\n",
      "Episode 200\tAverage Score: 4.75\n",
      "Episode 300\tAverage Score: 7.53\n",
      "Episode 400\tAverage Score: 10.12\n",
      "Episode 500\tAverage Score: 10.54\n",
      "Episode 600\tAverage Score: 12.16\n",
      "Episode 700\tAverage Score: 12.29\n",
      "Episode 782\tAverage Score: 13.04\n",
      "Environment solved in 782 episodes!\tAverage Score: 13.04\n",
      "Training time: 937.5089101791382\n"
     ]
    },
    {
     "data": {
      "image/png": "[encoded data removed]",
      "text/plain": [
       "<Figure size 432x288 with 1 Axes>"
      ]
     },
     "metadata": {
      "needs_background": "light"
     },
     "output_type": "display_data"
    }
   ],
   "source": [
    "'''\n",
    "   Implementation of deep q learning\n",
    "\n",
    "       n_episodes (int): maximum number of training episodes\n",
    "       eps_start (float): start value of epsilon, for epsilon-greedy action selection\n",
    "       eps_end (float): min value of epsilon\n",
    "       eps_decay (float): factor for decreasing epsilon\n",
    "       trainMode (bool): specifies if algorithm is run in train or test mode (i.e. loading a trained model and simulating agent behaviour)\n",
    "'''\n",
    "\n",
    "def dqn(n_episodes=2000, eps_start=1.0, eps_end=final_eps, eps_decay=0.995, trainMode = True):\n",
    "    trainingTime = -1\n",
    "    startTime = time.time()\n",
    "    scores = []  # list containing scores from each episode\n",
    "    scores_history = deque(maxlen=100)  # last 100 scores\n",
    "    eps = eps_start  # initialize epsilon\n",
    "    for i_episode in range(1, n_episodes + 1):\n",
    "        env_info = env.reset(train_mode=trainMode)[brain_name]  # reset the environment\n",
    "        state = env_info.vector_observations[0]  # get the current state\n",
    "        score = 0  # initialize the score\n",
    "        while(True):\n",
    "            action = agent.doAction(state, eps,trainMode=trainMode)  # select an action\n",
    "            env_info = env.step(action)[brain_name]  # send the action to the environment\n",
    "            next_state = env_info.vector_observations[0]  # get the next state\n",
    "            reward = env_info.rewards[0]  # get the reward\n",
    "            done = env_info.local_done[0]  # see if episode has finished\n",
    "            if trainMode:\n",
    "                agent.step(state, action, reward, next_state, done)  # do the learning\n",
    "\n",
    "            score += reward  # update the score\n",
    "            state = next_state  # update the state with the next one\n",
    "            if done:  # exit loop on end of episode\n",
    "                break\n",
    "        #save current score\n",
    "        scores_history.append(score)\n",
    "        scores.append(score)\n",
    "        eps = max(eps_end, eps_decay * eps)  # decrease epsilon\n",
    "        print('\\rEpisode {}\\tAverage Score: {:.2f}'.format(i_episode, np.mean(scores_history)), end=\"\")\n",
    "        if i_episode % 100 == 0:\n",
    "            print('\\rEpisode {}\\tAverage Score: {:.2f}'.format(i_episode, np.mean(scores_history)))\n",
    "        if trainMode and np.mean(scores_history) >= 13.0:\n",
    "            trainingTime = time.time() - startTime\n",
    "            print('\\nEnvironment solved in {:d} episodes!\\tAverage Score: {:.2f}'.format(i_episode,np.mean(scores_history)))\n",
    "            torch.save(agent.qnetwork_local.state_dict(), modelPath)\n",
    "            break\n",
    "\n",
    "    return scores,trainingTime\n",
    "\n",
    "\n",
    "if not trainMode:\n",
    "    # simulate agent with learnt weights in environemt\n",
    "    agent.qnetwork_local.load_state_dict(torch.load(modelPath))\n",
    "    scores, trainingTime = dqn(trainMode=trainMode,eps_start=0,eps_end=0,n_episodes=1)\n",
    "else:\n",
    "    scores, trainingTime = dqn()\n",
    "    print(\"Training time: {0}\".format(trainingTime))\n",
    "    # plot the scores\n",
    "    fig = plt.figure()\n",
    "    ax = fig.add_subplot(111)\n",
    "    plt.plot(np.arange(len(scores)), scores)\n",
    "    plt.ylabel('Score')\n",
    "    plt.xlabel('# Episode')\n",
    "    plt.savefig(\"plots/scoresPerEpisode.png\")\n",
    "    plt.show()\n",
    "\n",
    "env.close()\n"
   ]
  },
  {
   "cell_type": "code",
   "execution_count": null,
   "metadata": {},
   "outputs": [],
   "source": []
  },
  {
   "cell_type": "code",
   "execution_count": null,
   "metadata": {},
   "outputs": [],
   "source": []
  }
 ],
 "metadata": {
  "kernelspec": {
   "display_name": "Python 3",
   "language": "python",
   "name": "python3"
  },
  "language_info": {
   "codemirror_mode": {
    "name": "ipython",
    "version": 3
   },
   "file_extension": ".py",
   "mimetype": "text/x-python",
   "name": "python",
   "nbconvert_exporter": "python",
   "pygments_lexer": "ipython3",
   "version": "3.6.8"
  }
 },
 "nbformat": 4,
 "nbformat_minor": 1
}
